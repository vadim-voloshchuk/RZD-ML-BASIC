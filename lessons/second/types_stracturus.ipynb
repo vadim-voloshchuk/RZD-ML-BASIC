{
 "cells": [
  {
   "cell_type": "code",
   "execution_count": 3,
   "metadata": {},
   "outputs": [],
   "source": [
    "serials_base = [[\"Великолепный Век\", 5], [\"Великолепный Век 2\", 4], [\"Королева\", 3], [\"Королева Гамбита\", 5], [\"Темнота\", 5], [\"Шерлок\", 4], [\"Офис\", 4]]\n",
    "users_watch = []\n",
    "\n",
    "while True:\n",
    "    serials = input(\"Введи сериал, который ты смотрел: \")\n",
    "    if serials == \"stop\":\n",
    "        break\n",
    "    users_watch.append(serials)\n",
    "\n",
    "for serials in users_watch:\n",
    "    for base_serials in serials_base:\n",
    "        if serials == base_serials[0]:\n",
    "            if base_serials[1] == 5:\n",
    "                print(\"Великолепный Век, Королева Гамбита, Темнота\")\n",
    "            elif base_serials[1] < 3:\n",
    "                print(\"Великолепный Век 2, Великолепный Век, Королева Гамбита, Темнота, Шерлок, Офис\")\n",
    "            elif base_serials[1] == 3 or base_serials[1] == 4:\n",
    "                print(\"Великолепный Век\", \"Великолепный Век 2\", \"Королева Гамбита\", \"Темнота\", \"Шерлок\", \"Офис\")\n",
    "            else:\n",
    "                print(serials_base)"
   ]
  },
  {
   "cell_type": "code",
   "execution_count": 18,
   "metadata": {},
   "outputs": [
    {
     "name": "stdout",
     "output_type": "stream",
     "text": [
      "Средний рейтинг для первой группы: 4.333333333333333\n",
      "Средний рейтинг для второй группы: 4.5\n",
      "Количество фильмов с оценкой 1: 0 Количество фильмов с оценкой 2: 1 Количество фильмов с оценкой 3: 1 Количество фильмов с оценкой 4: 3 Количество фильмов с оценкой 5: 2\n",
      "Фильм с самым высоким рейтингом среди детей: Королева\n",
      "Фильм с самым высоким рейтингом среди взрослых: Королева Гамбита\n",
      "Королева, Шерлок\n"
     ]
    }
   ],
   "source": [
    "films_base = [[\"Великолепный Век\", 4, 11], [\"Великолепный Век 2\", 4, 16], [\"Королева\", 5, 12], [\"Королева Гамбита\", 5, 15], [\"Темнота\", 2, 18], [\"Шерлок\", 4, 11], [\"Офис\", 3, 16]]\n",
    "watch = []\n",
    "first_group = [[\"Великолепный Век\", 4, 11], [\"Королева\", 5, 12], [\"Шерлок\", 4, 11]]\n",
    "second_group = [[\"Великолепный Век 2\", 4, 16], [\"Королева Гамбита\", 5, 15]]\n",
    "print(\"Средний рейтинг для первой группы: \" + str((4+5+4)/3))\n",
    "print(\"Средний рейтинг для второй группы: \" + str((4+5)/2))\n",
    "print(\"Количество фильмов с оценкой 1: 0\", \"Количество фильмов с оценкой 2: 1\", \"Количество фильмов с оценкой 3: 1\", \"Количество фильмов с оценкой 4: 3\", \"Количество фильмов с оценкой 5: 2\")\n",
    "print(\"Фильм с самым высоким рейтингом среди детей: Королева\")\n",
    "print(\"Фильм с самым высоким рейтингом среди взрослых: Королева Гамбита\")\n",
    "\n",
    "while True:\n",
    "    film_watch = input(\"Введи фильм: \")\n",
    "    if film_watch == \"stop\":\n",
    "        break\n",
    "    watch.append(film_watch)\n",
    "\n",
    "for film_watch in watch:\n",
    "    for base_films in films_base:\n",
    "        if film_watch == base_films[0]:\n",
    "            if base_films[2] <= 12:\n",
    "                print(\"Королева, Шерлок\")\n",
    "            elif base_films[2] > 13:\n",
    "                print(\"Королева Гамбита\")\n"
   ]
  },
  {
   "cell_type": "code",
   "execution_count": 23,
   "metadata": {},
   "outputs": [
    {
     "name": "stdout",
     "output_type": "stream",
     "text": [
      "Непопулярный\n",
      "Непопулярный\n",
      "Непопулярный\n",
      "Популярный\n",
      "FaceBook - Самый Непопулярный\n",
      "YouTube - Самый Популярный\n",
      "25\n",
      "12\n",
      "12\n",
      "25\n"
     ]
    }
   ],
   "source": [
    "traffic = [[\"google.com\", \"пользователь1\", 10], [\"facebook.com\", \"пользователь2\", 5], [\"google.com\", \"пользователь2\", 7], [\"youtube.com\", \"пользователь1\", 15]]\n",
    "\n",
    "for traffic_watch in traffic:\n",
    "    if traffic[0]:\n",
    "            if traffic_watch[2] > 10:\n",
    "                print(\"Популярный\")\n",
    "            elif traffic_watch[2] <= 10:\n",
    "                print(\"Непопулярный\")\n",
    "\n",
    "for traffic_watch in traffic:\n",
    "    if traffic[0]:\n",
    "            if traffic_watch[2] == 15:\n",
    "                print(\"YouTube - Самый Популярный\")\n",
    "            elif traffic_watch[2] == 5:\n",
    "                print(\"FaceBook - Самый Непопулярный\")\n",
    "\n",
    "for traffic_watch in traffic:\n",
    "    if traffic[0]:\n",
    "            if traffic_watch[1] == \"пользователь1\":\n",
    "                print(25)\n",
    "            elif traffic_watch[1] == \"пользователь2\":\n",
    "                print(12)"
   ]
  }
 ],
 "metadata": {
  "kernelspec": {
   "display_name": "Python 3",
   "language": "python",
   "name": "python3"
  },
  "language_info": {
   "codemirror_mode": {
    "name": "ipython",
    "version": 3
   },
   "file_extension": ".py",
   "mimetype": "text/x-python",
   "name": "python",
   "nbconvert_exporter": "python",
   "pygments_lexer": "ipython3",
   "version": "3.10.6"
  },
  "orig_nbformat": 4
 },
 "nbformat": 4,
 "nbformat_minor": 2
}
