{
 "cells": [
  {
   "cell_type": "markdown",
   "metadata": {},
   "source": [
    "## Задача: Рекомендации сериалов"
   ]
  },
  {
   "cell_type": "code",
   "execution_count": 5,
   "metadata": {},
   "outputs": [
    {
     "name": "stdout",
     "output_type": "stream",
     "text": [
      "Советуем посмотреть:\n",
      "____________________________________________\n",
      "Великолепный Век\n",
      "Королева Гамбита\n",
      "Глухарь 1\n"
     ]
    }
   ],
   "source": [
    "serials_base = [\n",
    "    [\"Великолепный Век\", 5], [\"Великолепный Век 2\", 4], \n",
    "    [\"Королева\", 3], [\"Королева Гамбита\", 5], \n",
    "    [\"Темнота\", 5], [\"Шерлок\", 4], [\"Офис\", 4], \n",
    "    [\"Шрек 3\", 4], [\"Глухарь 1\", 5]\n",
    "    ]\n",
    "users_watch = []\n",
    "\n",
    "while True:\n",
    "    serials = input(\"Введи сериал, который ты смотрел: \")\n",
    "    if serials == \"stop\":\n",
    "        break\n",
    "    users_watch.append(serials)\n",
    "\n",
    "for serial in users_watch:\n",
    "    for base_serial in serials_base:\n",
    "        if serial == base_serial[0]:\n",
    "            if base_serial[1] == 5:\n",
    "                # print(\"Великолепный Век, Королева Гамбита, Темнота\")]\n",
    "                print(\"Советуем посмотреть:\")\n",
    "                print(\"____________________________________________\")\n",
    "                for check_serial in serials_base:\n",
    "                    if serial != check_serial[0] and check_serial[1] == 5:\n",
    "                        print(check_serial[0])\n",
    "            elif base_serial[1] < 3:\n",
    "                print(\"Великолепный Век 2, Великолепный Век, Королева Гамбита, Темнота, Шерлок, Офис\")\n",
    "            elif base_serial[1] == 3 or base_serial[1] == 4:\n",
    "                print(\"Великолепный Век\", \"Великолепный Век 2\", \"Королева Гамбита\", \"Темнота\", \"Шерлок\", \"Офис\")\n",
    "            else:\n",
    "                print(serials_base)"
   ]
  },
  {
   "cell_type": "code",
   "execution_count": 53,
   "metadata": {},
   "outputs": [
    {
     "name": "stdout",
     "output_type": "stream",
     "text": [
      "Офис\n"
     ]
    }
   ],
   "source": [
    "films_base = [\n",
    "    [\"Великолепный Век\", 4, 11], [\"Великолепный Век 2\", 4, 16], \n",
    "    [\"Королева\", 1999, 12], [\"Королева Гамбита\", 5, 15], \n",
    "    [\"Темнота\", 2, 18], [\"Шерлок\", 100, 11], \n",
    "    [\"Офис\", 2000, 16]]\n",
    "\n",
    "# ## Разделить на две группы с помощью цикла\n",
    "# first_group = []\n",
    "# second_group = []\n",
    "\n",
    "# for film in films_base:\n",
    "#     if film[1] == 4 or film[1] == 5:\n",
    "#         if film[2] <= 12:\n",
    "#             first_group.append(film)\n",
    "#         elif film[2] >= 13:\n",
    "#             second_group.append(film)\n",
    "#         else:\n",
    "#             print(\"No films\")\n",
    "\n",
    "# print(\"\\nПервая группа:\")\n",
    "# print(first_group)\n",
    "# print(\"\\nВторая группа:\")\n",
    "# print(second_group)\n",
    "\n",
    "#Средний рейтинг\n",
    "# sum = 0\n",
    "# for film in first_group:\n",
    "#     sum = sum + film[1]\n",
    "# print(sum / len(first_group))\n",
    "# sum = 0\n",
    "# for film in second_group:\n",
    "#     sum = sum + film[1]\n",
    "# print(sum / len(second_group))\n",
    "\n",
    "# # Посчитать количество фильмов по оценкам\n",
    "# rate_1 = rate_2 = rate_3 = rate_4 = rate_5= 0\n",
    "\n",
    "# for film in films_base:\n",
    "#     if film[1] == 1:\n",
    "#         rate_1 = rate_1 + 1\n",
    "#     if film[1] == 2:\n",
    "#         rate_2 = rate_2 + 1\n",
    "#     if film[1] == 3:\n",
    "#         rate_3 = rate_3 + 1\n",
    "#     if film[1] == 4:\n",
    "#         rate_4 = rate_4 + 1\n",
    "#     if film[1] == 5:\n",
    "#         rate_5 = rate_5 + 1\n",
    "\n",
    "\n",
    "# print(rate_1, rate_2, rate_3, rate_4, rate_5)\n",
    "\n",
    "# # Фильм с самым высоким рейтингом\n",
    "max = 0\n",
    "max_film = \"\"\n",
    "for film in films_base:\n",
    "    if film[1] > max:\n",
    "        max = film[1] \n",
    "        max_film = film[0]\n",
    "\n",
    "print(max_film)\n",
    "\n",
    "# for film in second_group:\n",
    "#     if film[1] == ?:\n",
    "#         print(film[0])\n",
    "\n",
    "    \n",
    "\n",
    "\n",
    "# print(\"Фильм с самым высоким рейтингом среди детей: Королева\")\n",
    "# print(\"Фильм с самым высоким рейтингом среди взрослых: Королева Гамбита\")\n"
   ]
  },
  {
   "cell_type": "code",
   "execution_count": 23,
   "metadata": {},
   "outputs": [
    {
     "name": "stdout",
     "output_type": "stream",
     "text": [
      "Непопулярный\n",
      "Непопулярный\n",
      "Непопулярный\n",
      "Популярный\n",
      "FaceBook - Самый Непопулярный\n",
      "YouTube - Самый Популярный\n",
      "25\n",
      "12\n",
      "12\n",
      "25\n"
     ]
    }
   ],
   "source": [
    "traffic = [\n",
    "    [\"google.com\", \"пользователь1\", 10], [\"facebook.com\", \"пользователь2\", 5], \n",
    "    [\"google.com\", \"пользователь2\", 7], [\"youtube.com\", \"пользователь1\", 15]\n",
    "    ]\n",
    "\n",
    "for traffic_watch in traffic:\n",
    "            if traffic_watch[2] > 10:\n",
    "                print(\"Популярный\")\n",
    "            elif traffic_watch[2] <= 10:\n",
    "                print(\"Непопулярный\")\n",
    "\n",
    "for traffic_watch in traffic:\n",
    "            if traffic_watch[2] == 15:\n",
    "                print(\"YouTube - Самый Популярный\")\n",
    "            elif traffic_watch[2] == 5:\n",
    "                print(\"FaceBook - Самый Непопулярный\")\n",
    "\n",
    "for traffic_watch in traffic:\n",
    "            if traffic_watch[1] == \"пользователь1\":\n",
    "                print(25)\n",
    "            elif traffic_watch[1] == \"пользователь2\":\n",
    "                print(12)"
   ]
  }
 ],
 "metadata": {
  "kernelspec": {
   "display_name": "Python 3",
   "language": "python",
   "name": "python3"
  },
  "language_info": {
   "codemirror_mode": {
    "name": "ipython",
    "version": 3
   },
   "file_extension": ".py",
   "mimetype": "text/x-python",
   "name": "python",
   "nbconvert_exporter": "python",
   "pygments_lexer": "ipython3",
   "version": "3.10.6"
  },
  "orig_nbformat": 4
 },
 "nbformat": 4,
 "nbformat_minor": 2
}
