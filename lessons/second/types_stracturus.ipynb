{
 "cells": [
  {
   "cell_type": "code",
   "execution_count": 17,
   "metadata": {},
   "outputs": [
    {
     "name": "stdout",
     "output_type": "stream",
     "text": [
      "Великолепный Век, Королева Гамбита, Темнота\n",
      "Великолепный Век Великолепный Век 2 Королева Гамбита Темнота Шерлок Офис\n"
     ]
    }
   ],
   "source": [
    "serials_base = [[\"Великолепный Век\", 5], [\"Великолепный Век 2\", 4], [\"Королева\", 3], [\"Королева Гамбита\", 5], [\"Темнота\", 5], [\"Шерлок\", 4], [\"Офис\", 4]]\n",
    "users_watch = []\n",
    "\n",
    "while True:\n",
    "    serials = input(\"Введи сериал, который ты смотрел: \")\n",
    "    if serials == \"stop\":\n",
    "        break\n",
    "    users_watch.append(serials)\n",
    "\n",
    "for serials in users_watch:\n",
    "    for base_serials in serials_base:\n",
    "        if serials == base_serials[0]:\n",
    "            if base_serials[1] == 5:\n",
    "                print(\"Великолепный Век, Королева Гамбита, Темнота\")\n",
    "            elif base_serials[1] < 3:\n",
    "                print(\"Великолепный Век 2, Великолепный Век, Королева Гамбита, Темнота, Шерлок, Офис\")\n",
    "            elif base_serials[1] == 3 or base_serials[1] == 4:\n",
    "                print(\"Великолепный Век\", \"Великолепный Век 2\", \"Королева Гамбита\", \"Темнота\", \"Шерлок\", \"Офис\")\n",
    "            else:\n",
    "                print(serials_base)"
   ]
  },
  {
   "cell_type": "code",
   "execution_count": 14,
   "metadata": {},
   "outputs": [
    {
     "data": {
      "text/plain": [
       "[['Великолепный Век'], ['Темнота']]"
      ]
     },
     "execution_count": 14,
     "metadata": {},
     "output_type": "execute_result"
    }
   ],
   "source": [
    "users_watch"
   ]
  }
 ],
 "metadata": {
  "kernelspec": {
   "display_name": "Python 3",
   "language": "python",
   "name": "python3"
  },
  "language_info": {
   "codemirror_mode": {
    "name": "ipython",
    "version": 3
   },
   "file_extension": ".py",
   "mimetype": "text/x-python",
   "name": "python",
   "nbconvert_exporter": "python",
   "pygments_lexer": "ipython3",
   "version": "3.10.6"
  },
  "orig_nbformat": 4
 },
 "nbformat": 4,
 "nbformat_minor": 2
}
