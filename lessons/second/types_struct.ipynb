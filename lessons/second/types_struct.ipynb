{
 "cells": [
  {
   "cell_type": "markdown",
   "metadata": {},
   "source": [
    "# Изучение основ\n",
    "- Типы данных и структуры (целые числа, дробные числа, строки, списки, кортежи, словари, множества)\n",
    "- Переменные и выражения\n",
    "- Условные операторы (if / else)\n",
    "- Циклы (for / while)\n",
    "- Функции\n",
    "- Ввод / вывод (print, input)\n",
    "\n"
   ]
  },
  {
   "cell_type": "markdown",
   "metadata": {},
   "source": [
    "## Типы данных и структуры"
   ]
  },
  {
   "cell_type": "markdown",
   "metadata": {},
   "source": [
    "### Структуры данных"
   ]
  },
  {
   "cell_type": "code",
   "execution_count": 4,
   "metadata": {},
   "outputs": [
    {
     "data": {
      "text/plain": [
       "[2, 1, 4, 5, 6, 3]"
      ]
     },
     "execution_count": 4,
     "metadata": {},
     "output_type": "execute_result"
    }
   ],
   "source": [
    "our_list = [2, 1, 4, 5, 6, 3]\n",
    "our_list"
   ]
  },
  {
   "cell_type": "code",
   "execution_count": 7,
   "metadata": {},
   "outputs": [
    {
     "data": {
      "text/plain": [
       "2"
      ]
     },
     "execution_count": 7,
     "metadata": {},
     "output_type": "execute_result"
    }
   ],
   "source": [
    "our_list[0]"
   ]
  },
  {
   "cell_type": "code",
   "execution_count": 8,
   "metadata": {},
   "outputs": [
    {
     "data": {
      "text/plain": [
       "6"
      ]
     },
     "execution_count": 8,
     "metadata": {},
     "output_type": "execute_result"
    }
   ],
   "source": [
    "len(our_list)"
   ]
  },
  {
   "cell_type": "code",
   "execution_count": 18,
   "metadata": {},
   "outputs": [
    {
     "data": {
      "text/plain": [
       "['first_string', 'second_string', 'third_string']"
      ]
     },
     "execution_count": 18,
     "metadata": {},
     "output_type": "execute_result"
    }
   ],
   "source": [
    "strings_list = ['first_string', 'second_string', 'third_string']\n",
    "\n",
    "strings_list"
   ]
  },
  {
   "cell_type": "code",
   "execution_count": 19,
   "metadata": {},
   "outputs": [
    {
     "name": "stdout",
     "output_type": "stream",
     "text": [
      "first_string\n",
      "second_string\n",
      "third_string\n"
     ]
    }
   ],
   "source": [
    "for i in range(len(strings_list)):\n",
    "    print(strings_list[i])"
   ]
  },
  {
   "cell_type": "code",
   "execution_count": 46,
   "metadata": {},
   "outputs": [],
   "source": [
    "list = []"
   ]
  },
  {
   "cell_type": "code",
   "execution_count": 47,
   "metadata": {},
   "outputs": [
    {
     "data": {
      "text/plain": [
       "[0, 1, 2, 3, 4, 5, 6, 7, 8]"
      ]
     },
     "execution_count": 47,
     "metadata": {},
     "output_type": "execute_result"
    }
   ],
   "source": [
    "for i in range(9):\n",
    "    list.append(i)\n",
    "\n",
    "list"
   ]
  },
  {
   "cell_type": "code",
   "execution_count": 22,
   "metadata": {},
   "outputs": [
    {
     "data": {
      "text/plain": [
       "4"
      ]
     },
     "execution_count": 22,
     "metadata": {},
     "output_type": "execute_result"
    }
   ],
   "source": [
    "list[4]"
   ]
  },
  {
   "cell_type": "code",
   "execution_count": 40,
   "metadata": {},
   "outputs": [
    {
     "data": {
      "text/plain": [
       "[[10240120512.0, 1],\n",
       " [25412512.0, 5],\n",
       " [21412521.0, 3],\n",
       " [125125125.0, 0],\n",
       " [12412412.0, 53141341241],\n",
       " [31.0, 41351251],\n",
       " [34.0, 123512512],\n",
       " [3413.0, 341],\n",
       " [341.0, 4341351],\n",
       " [343.0, 134151]]"
      ]
     },
     "execution_count": 40,
     "metadata": {},
     "output_type": "execute_result"
    }
   ],
   "source": [
    "client = []\n",
    "num = 10\n",
    "\n",
    "for i in range(num):\n",
    "    annual_income = float(input(\"Введи годовой доход: \"))\n",
    "    credit_history = int(input(\"Количество положительных историй: \"))\n",
    "\n",
    "    client.append([annual_income, credit_history])\n",
    "\n",
    "client"
   ]
  },
  {
   "cell_type": "code",
   "execution_count": 50,
   "metadata": {},
   "outputs": [
    {
     "data": {
      "text/plain": [
       "[[10240120512.0, 1],\n",
       " [25412512.0, 5],\n",
       " [21412521.0, 3],\n",
       " [125125125.0, 0],\n",
       " [12412412.0, 53141341241],\n",
       " [31.0, 41351251],\n",
       " [34.0, 123512512],\n",
       " [3413.0, 341],\n",
       " [341.0, 4341351],\n",
       " [343.0, 134151]]"
      ]
     },
     "execution_count": 50,
     "metadata": {},
     "output_type": "execute_result"
    }
   ],
   "source": [
    "client"
   ]
  },
  {
   "cell_type": "code",
   "execution_count": 42,
   "metadata": {},
   "outputs": [
    {
     "name": "stdout",
     "output_type": "stream",
     "text": [
      "Индекс:0\n",
      "Данные:[10240120512.0, 1]\n",
      "Средний рейтинг\n",
      "Индекс:1\n",
      "Данные:[25412512.0, 5]\n",
      "Высокий рейтинг\n",
      "Индекс:2\n",
      "Данные:[21412521.0, 3]\n",
      "Высокий рейтинг\n",
      "Индекс:3\n",
      "Данные:[125125125.0, 0]\n",
      "Невозможно присвоить рейтинг\n",
      "Индекс:4\n",
      "Данные:[12412412.0, 53141341241]\n",
      "Высокий рейтинг\n",
      "Индекс:5\n",
      "Данные:[31.0, 41351251]\n",
      "Невозможно присвоить рейтинг\n",
      "Индекс:6\n",
      "Данные:[34.0, 123512512]\n",
      "Невозможно присвоить рейтинг\n",
      "Индекс:7\n",
      "Данные:[3413.0, 341]\n",
      "Невозможно присвоить рейтинг\n",
      "Индекс:8\n",
      "Данные:[341.0, 4341351]\n",
      "Невозможно присвоить рейтинг\n",
      "Индекс:9\n",
      "Данные:[343.0, 134151]\n",
      "Невозможно присвоить рейтинг\n"
     ]
    }
   ],
   "source": [
    "for i in range(num):\n",
    "    print('Индекс:' + str(i))\n",
    "    print('Данные:' + str(client[i]))\n",
    "    if client[i][0] >= 80000 and client[i][1] >= 2:\n",
    "        print(\"Высокий рейтинг\")\n",
    "    elif client[i][0] >= 60000 and client[i][1] >= 1:\n",
    "        print(\"Средний рейтинг\")\n",
    "    elif client[i][0] < 60000 and client[i][1] < 1:\n",
    "        print(\"Низкий рейтинг\")\n",
    "    else:\n",
    "        print('Невозможно присвоить рейтинг')"
   ]
  },
  {
   "cell_type": "code",
   "execution_count": 48,
   "metadata": {},
   "outputs": [
    {
     "data": {
      "text/plain": [
       "[0, 1, 2, 3, 4, 5, 6, 7, 8]"
      ]
     },
     "execution_count": 48,
     "metadata": {},
     "output_type": "execute_result"
    }
   ],
   "source": [
    "list"
   ]
  },
  {
   "cell_type": "code",
   "execution_count": 52,
   "metadata": {},
   "outputs": [
    {
     "name": "stdout",
     "output_type": "stream",
     "text": [
      "10240120512.0\n",
      "1\n",
      "25412512.0\n",
      "5\n",
      "21412521.0\n",
      "3\n",
      "125125125.0\n",
      "0\n",
      "12412412.0\n",
      "53141341241\n",
      "31.0\n",
      "41351251\n",
      "34.0\n",
      "123512512\n",
      "3413.0\n",
      "341\n",
      "341.0\n",
      "4341351\n",
      "343.0\n",
      "134151\n"
     ]
    }
   ],
   "source": [
    "for cl in client:\n",
    "    for cl_in in cl:\n",
    "        print(cl_in)"
   ]
  },
  {
   "cell_type": "code",
   "execution_count": 62,
   "metadata": {},
   "outputs": [
    {
     "name": "stdout",
     "output_type": "stream",
     "text": [
      "Невозможно присвоить рейтинг\n",
      "Высокий рейтинг\n"
     ]
    }
   ],
   "source": [
    "client = []\n",
    "\n",
    "while True:\n",
    "    annual_income = input(\"Введи годовой доход: \")\n",
    "    credit_history = input(\"Количество положительных историй: \")\n",
    "\n",
    "    if annual_income == 'stop' or credit_history == 'stop':\n",
    "        break\n",
    "\n",
    "    client.append([float(annual_income), int(credit_history)])\n",
    "\n",
    "\n",
    "for cl in client:\n",
    "    if cl[0] >= 80000 and cl[1] >= 2:\n",
    "        print(\"Высокий рейтинг\")\n",
    "    elif cl[0] >= 60000 and cl[1] >= 1:\n",
    "        print(\"Средний рейтинг\")\n",
    "    elif cl[0] < 60000 and cl[1] < 1:\n",
    "        print(\"Низкий рейтинг\")\n",
    "    else:\n",
    "        print('Невозможно присвоить рейтинг')"
   ]
  },
  {
   "cell_type": "code",
   "execution_count": 63,
   "metadata": {},
   "outputs": [
    {
     "data": {
      "text/plain": [
       "[[100000.0, 0], [1251251212.0, 2]]"
      ]
     },
     "execution_count": 63,
     "metadata": {},
     "output_type": "execute_result"
    }
   ],
   "source": [
    "client"
   ]
  }
 ],
 "metadata": {
  "kernelspec": {
   "display_name": "Python 3",
   "language": "python",
   "name": "python3"
  },
  "language_info": {
   "codemirror_mode": {
    "name": "ipython",
    "version": 3
   },
   "file_extension": ".py",
   "mimetype": "text/x-python",
   "name": "python",
   "nbconvert_exporter": "python",
   "pygments_lexer": "ipython3",
   "version": "3.10.6"
  },
  "orig_nbformat": 4
 },
 "nbformat": 4,
 "nbformat_minor": 2
}
