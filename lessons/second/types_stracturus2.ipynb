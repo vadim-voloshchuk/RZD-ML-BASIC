{
 "cells": [
  {
   "cell_type": "markdown",
   "metadata": {},
   "source": [
    "## Лукойл"
   ]
  },
  {
   "cell_type": "code",
   "execution_count": 2,
   "metadata": {},
   "outputs": [
    {
     "name": "stdout",
     "output_type": "stream",
     "text": [
      "[['19-линия ВО', 87], ['Средний проспект ВО 82к2', 54], ['Кожевенная линия 43', 72], ['Железноводская 1а', 88], ['Декабристов 9', 95], ['Школьная 91', 55], ['Набережная 18', 35]]\n",
      "69.42857142857143\n",
      "[['19-линия ВО', 87], ['Кожевенная линия 43', 72], ['Железноводская 1а', 88], ['Декабристов 9', 95]]\n",
      "35\n",
      "95\n"
     ]
    }
   ],
   "source": [
    "oil_station = [[\"19-линия ВО\", 87], [\"Средний проспект ВО 82к2\", 54], [\"Кожевенная линия 43\", 72], [\"Железноводская 1а\", 88],\n",
    "[\"Декабристов 9\", 95], [\"Школьная 91\", 55], [\"Набережная 18\", 35]]\n",
    "# oil_station = []\n",
    "\n",
    "while True:\n",
    "    station = input(\"Введите название станции: \")\n",
    "    kol = input(\"Введи количество заправок: \")\n",
    "    if station == \"stop\" and kol == \"stop\":\n",
    "        break\n",
    "    oil_station.append([station, int(kol)])\n",
    "\n",
    "print(oil_station)\n",
    "\n",
    "sum = 0\n",
    "\n",
    "for i in oil_station:\n",
    "    sum = sum + i[1]\n",
    "abc = sum/len(oil_station)\n",
    "print(abc)\n",
    "\n",
    "benz = 1000\n",
    "for lukoil in oil_station:\n",
    "    if lukoil[1] < benz:\n",
    "        benz = lukoil[1]\n",
    "\n",
    "bmw = 0\n",
    "for lukoil in oil_station:\n",
    "    if lukoil[1] > bmw:\n",
    "        bmw = lukoil[1]\n",
    "\n",
    "first_group = []\n",
    "\n",
    "for audi in oil_station:\n",
    "    if audi[1] >= abc:\n",
    "        first_group.append(audi)\n",
    "\n",
    "print(first_group)\n",
    "print(benz)\n",
    "print(bmw)\n"
   ]
  },
  {
   "cell_type": "markdown",
   "metadata": {},
   "source": [
    "## РЖД"
   ]
  },
  {
   "cell_type": "code",
   "execution_count": 7,
   "metadata": {},
   "outputs": [
    {
     "name": "stdout",
     "output_type": "stream",
     "text": [
      "[[1, 50, 190, 51.85714285714286], [2, 10, 169, 45.66037735849057], [3, 124, 190, 110.0]]\n",
      "45.66037735849057\n",
      "110.0\n"
     ]
    }
   ],
   "source": [
    "train_z = [[1, 50, 190],[2, 10, 169],[3, 124, 190]]\n",
    "\n",
    "# while True:\n",
    "#     poezd = input(\"Введите номер поезда: \")\n",
    "#     otrp = input(\"Введите время отправления в минутах: \")\n",
    "#     prib = input(\"Введите время прибытия в минутах: \")\n",
    "#     if poezd == \"stop\" and otpr == \"stop\" and prib == \"stop\":\n",
    "#         break\n",
    "#     trainz.append([int(poezd), int(otrp), int(prib)])\n",
    "\n",
    "# print(trainz)\n",
    "\n",
    "avarage_dist = 121\n",
    "\n",
    "for train in train_z:\n",
    "    speed = (avarage_dist/(train[2]-train[1]))*60\n",
    "    train.append(speed)\n",
    "\n",
    "min = 100000\n",
    "for train in train_z:\n",
    "    if train[3] < min:\n",
    "        min = train[3]\n",
    "\n",
    "print(train_z)\n",
    "print(min)\n",
    "\n",
    "max = 0\n",
    "for train in train_z:\n",
    "    if train[3] > max:\n",
    "        max = train[3]\n",
    "print(max)"
   ]
  },
  {
   "cell_type": "markdown",
   "metadata": {},
   "source": [
    "## Лента"
   ]
  },
  {
   "cell_type": "code",
   "execution_count": 8,
   "metadata": {},
   "outputs": [
    {
     "name": "stdout",
     "output_type": "stream",
     "text": [
      "2380.3333333333335\n",
      "900\n",
      "5000\n"
     ]
    }
   ],
   "source": [
    "products = [['Крупа', 900], ['Пиво гроссмейстер', 1241], ['Орешки',5000]]\n",
    "\n",
    "# while True:\n",
    "#     product = input(\"Введите продукт: \")\n",
    "#     pro = input(\"Введите количество продаж: \")\n",
    "#     if product == \"stop\" and pro == \"stop\":\n",
    "#         break\n",
    "#     products.append([product, int(pro)])\n",
    "\n",
    "sum_sales = 0\n",
    "for product in products:\n",
    "    sum_sales += product[1] # sum_sales = sum_sales + product[1]\n",
    "avarage_sales = sum_sales/len(products)\n",
    "print(avarage_sales)\n",
    "\n",
    "min = 1000\n",
    "for product in products:\n",
    "    if product[1] < min:\n",
    "        min = product[1]\n",
    "\n",
    "max = 0\n",
    "for product in products:\n",
    "    if product[1] > max:\n",
    "        max = product[1]\n",
    "\n",
    "print(min)\n",
    "print(max)"
   ]
  }
 ],
 "metadata": {
  "kernelspec": {
   "display_name": "Python 3",
   "language": "python",
   "name": "python3"
  },
  "language_info": {
   "codemirror_mode": {
    "name": "ipython",
    "version": 3
   },
   "file_extension": ".py",
   "mimetype": "text/x-python",
   "name": "python",
   "nbconvert_exporter": "python",
   "pygments_lexer": "ipython3",
   "version": "3.10.6"
  }
 },
 "nbformat": 4,
 "nbformat_minor": 2
}
