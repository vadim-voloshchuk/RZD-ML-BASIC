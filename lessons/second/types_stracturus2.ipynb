{
 "cells": [
  {
   "cell_type": "markdown",
   "metadata": {},
   "source": [
    "## Лукойл"
   ]
  },
  {
   "cell_type": "code",
   "execution_count": 102,
   "metadata": {},
   "outputs": [
    {
     "name": "stdout",
     "output_type": "stream",
     "text": [
      "[['1', 823], ['933', 2], ['824', 1048]]\n",
      "624.3333333333334\n",
      "[['1', 823], ['824', 1048]]\n",
      "2\n",
      "1048\n"
     ]
    }
   ],
   "source": [
    "oil_station = [[\"19-линия ВО\", 87], [\"Средний проспект ВО 82к2\", 54], [\"Кожевенная линия 43\", 72], [\"Железноводская 1а\", 88],\n",
    "[\"Декабристов 9\", 95], [\"Школьная 91\", 55], [\"Набережная 18\", 35]]\n",
    "station_oil = []\n",
    "\n",
    "while True:\n",
    "    station = input(\"Введите название станции: \")\n",
    "    kol = input(\"Введи количество заправок: \")\n",
    "    if station == \"stop\" and kol == \"stop\":\n",
    "        break\n",
    "    station_oil.append([station, int(kol)])\n",
    "\n",
    "print(station_oil)\n",
    "\n",
    "sum = 0\n",
    "\n",
    "for i in station_oil:\n",
    "    sum = sum + i[1]\n",
    "abc = (sum/len(station_oil))\n",
    "print(abc)\n",
    "\n",
    "benz = 1000\n",
    "for lukoil in station_oil:\n",
    "    if lukoil[1] < benz:\n",
    "        benz = lukoil[1]\n",
    "\n",
    "bmw = 0\n",
    "for lukoil in station_oil:\n",
    "    if lukoil[1] > bmw:\n",
    "        bmw = lukoil[1]\n",
    "\n",
    "first_group = []\n",
    "\n",
    "for audi in station_oil:\n",
    "    if audi[1] >= abc:\n",
    "        first_group.append(audi)\n",
    "\n",
    "print(first_group)\n",
    "print(benz)\n",
    "print(bmw)\n"
   ]
  },
  {
   "cell_type": "markdown",
   "metadata": {},
   "source": [
    "## РЖД"
   ]
  },
  {
   "cell_type": "code",
   "execution_count": 115,
   "metadata": {},
   "outputs": [
    {
     "name": "stdout",
     "output_type": "stream",
     "text": [
      "[[1, 823, 933], [2, 824, 1048]]\n",
      "66.0\n",
      "32.410714285714285\n",
      "32.410714285714285\n"
     ]
    }
   ],
   "source": [
    "trainz = []\n",
    "\n",
    "while True:\n",
    "    poezd = input(\"Введите номер поезда: \")\n",
    "    otrp = input(\"Введите время отправления в минутах: \")\n",
    "    prib = input(\"Введите время прибытия в минутах: \")\n",
    "    if poezd == \"stop\" and otpr == \"stop\" and prib == \"stop\":\n",
    "        break\n",
    "    trainz.append([int(poezd), int(otrp), int(prib)])\n",
    "\n",
    "print(trainz)\n",
    "\n",
    "km = 121\n",
    "\n",
    "for n in trainz:\n",
    "    skor = ((km/(n[2]-n[1]))*60)\n",
    "    print(skor)\n",
    "\n",
    "min = 100000\n",
    "for i in trainz:\n",
    "    if skor < min:\n",
    "        min = skor\n",
    "print(min)\n",
    "# КАК НАМ ЗАПИСАТЬ ПОЕЗД И СКОРОСТЬ В ОДИН МАССИВ? ПЛИЗ ЖЕСТКИЙ ЗАТУП, НО У НАС ЕСТЬ ДВИЖЕНИЯ\n",
    "\n",
    "# max = 0\n",
    "# for b in trainz:\n",
    "#     if skor > max:\n",
    "#         max = skor\n",
    "# print(max)"
   ]
  },
  {
   "cell_type": "markdown",
   "metadata": {},
   "source": [
    "## Лента"
   ]
  },
  {
   "cell_type": "code",
   "execution_count": 113,
   "metadata": {},
   "outputs": [
    {
     "name": "stdout",
     "output_type": "stream",
     "text": [
      "2.6666666666666665\n",
      "[2, 1]\n",
      "1\n",
      "5\n",
      "[['y', 1], ['4', 5], ['g', 2]]\n"
     ]
    }
   ],
   "source": [
    "products = []\n",
    "\n",
    "while True:\n",
    "    product = input(\"Введите продукт: \")\n",
    "    pro = input(\"Введите количество продаж: \")\n",
    "    if product == \"stop\" and pro == \"stop\":\n",
    "        break\n",
    "    products.append([product, int(pro)])\n",
    "\n",
    "korz = 0\n",
    "for i in products:\n",
    "    korz = korz + i[1]\n",
    "obs = (korz/len(products))\n",
    "print(obs)\n",
    "# pdn = []\n",
    "min_pro = 1000\n",
    "for kasha in products:\n",
    "    if kasha[1] < min_pro:\n",
    "        min_pro = kasha[1]\n",
    "#         pdn.append(min_pro)\n",
    "# print(pdn)\n",
    "\n",
    "max_pro = 0\n",
    "for kasha in products:\n",
    "    if kasha[1] > max_pro:\n",
    "        max_pro = kasha[1]\n",
    "\n",
    "\n",
    "print(min_pro)\n",
    "print(max_pro)"
   ]
  }
 ],
 "metadata": {
  "kernelspec": {
   "display_name": "Python 3",
   "language": "python",
   "name": "python3"
  },
  "language_info": {
   "codemirror_mode": {
    "name": "ipython",
    "version": 3
   },
   "file_extension": ".py",
   "mimetype": "text/x-python",
   "name": "python",
   "nbconvert_exporter": "python",
   "pygments_lexer": "ipython3",
   "version": "3.10.6"
  }
 },
 "nbformat": 4,
 "nbformat_minor": 2
}
