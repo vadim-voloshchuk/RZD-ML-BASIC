{
 "cells": [
  {
   "cell_type": "markdown",
   "metadata": {},
   "source": [
    "# Работа со строками в Python\n",
    "\n",
    "## Создание строк\n",
    "1. Создайте строку, содержащую ваше имя.\n",
    "\n",
    "2. Создайте строку, состоящую из нескольких слов.\n",
    "\n",
    "3. Создайте строку с числовыми значениями.\n"
   ]
  },
  {
   "cell_type": "code",
   "execution_count": null,
   "metadata": {},
   "outputs": [],
   "source": []
  },
  {
   "cell_type": "code",
   "execution_count": null,
   "metadata": {},
   "outputs": [],
   "source": []
  },
  {
   "cell_type": "code",
   "execution_count": null,
   "metadata": {},
   "outputs": [],
   "source": []
  },
  {
   "cell_type": "markdown",
   "metadata": {},
   "source": [
    "\n",
    "## Информация о строках\n",
    "4. Выведите длину строки из задачи 1, используя функцию `len()`.\n",
    "\n",
    "5. Определите тип данных строки из задачи 2, используя функцию `type()`.\n"
   ]
  },
  {
   "cell_type": "code",
   "execution_count": null,
   "metadata": {},
   "outputs": [],
   "source": []
  },
  {
   "cell_type": "code",
   "execution_count": null,
   "metadata": {},
   "outputs": [],
   "source": []
  },
  {
   "cell_type": "markdown",
   "metadata": {},
   "source": [
    "\n",
    "## Операции со строками\n",
    "6. Сделайте все буквы в строке из задачи 1 заглавными.\n",
    "\n",
    "7. Соедините строки из задачи 2 и 3 в одну строку.\n"
   ]
  },
  {
   "cell_type": "code",
   "execution_count": null,
   "metadata": {},
   "outputs": [],
   "source": []
  },
  {
   "cell_type": "code",
   "execution_count": null,
   "metadata": {},
   "outputs": [],
   "source": []
  },
  {
   "cell_type": "markdown",
   "metadata": {},
   "source": [
    "\n",
    "## Индексация и срезы\n",
    "8. Получите первый символ строки из задачи 1.\n",
    "\n",
    "9. Выделите подстроку из строки задачи 2, содержащую только первые три слова.\n"
   ]
  },
  {
   "cell_type": "code",
   "execution_count": null,
   "metadata": {},
   "outputs": [],
   "source": []
  },
  {
   "cell_type": "code",
   "execution_count": null,
   "metadata": {},
   "outputs": [],
   "source": []
  },
  {
   "cell_type": "markdown",
   "metadata": {},
   "source": [
    "\n",
    "## Работа со строками\n",
    "10. Посчитайте количество букв \"a\" в строке из задачи 1.\n",
    "\n",
    "11. Замените все буквы \"o\" на \"e\" в строке из задачи 2.\n"
   ]
  },
  {
   "cell_type": "code",
   "execution_count": null,
   "metadata": {},
   "outputs": [],
   "source": []
  },
  {
   "cell_type": "code",
   "execution_count": null,
   "metadata": {},
   "outputs": [],
   "source": []
  },
  {
   "cell_type": "markdown",
   "metadata": {},
   "source": [
    "\n",
    "## Логические операции\n",
    "12. Проверьте, начинается ли строка из задачи 1 с буквы \"J\".\n",
    "\n",
    "13. Проверьте, содержится ли слово \"Python\" в строке из задачи 2.\n"
   ]
  },
  {
   "cell_type": "code",
   "execution_count": null,
   "metadata": {},
   "outputs": [],
   "source": []
  },
  {
   "cell_type": "markdown",
   "metadata": {},
   "source": [
    "\n",
    "## Форматирование строк\n",
    "14. Создайте строку, используя форматирование, вставив ваш возраст и имя.\n",
    "\n",
    "15. Преобразуйте строку из задачи 1 в строку, содержащую только заглавные буквы.\n"
   ]
  },
  {
   "cell_type": "code",
   "execution_count": null,
   "metadata": {},
   "outputs": [],
   "source": []
  },
  {
   "cell_type": "markdown",
   "metadata": {},
   "source": [
    "\n",
    "## Сортировка и индексация\n",
    "16. Отсортируйте символы в строке из задачи 1 в алфавитном порядке.\n",
    "\n",
    "17. Найдите индексы всех букв \"i\" в строке из задачи 2.\n"
   ]
  },
  {
   "cell_type": "code",
   "execution_count": null,
   "metadata": {},
   "outputs": [],
   "source": []
  },
  {
   "cell_type": "markdown",
   "metadata": {},
   "source": [
    "\n",
    "## Уникальные значения\n",
    "18. Найдите уникальные символы в строке из задачи 1.\n",
    "\n",
    "19. Посчитайте количество повторяющихся слов в строке из задачи 2.\n"
   ]
  },
  {
   "cell_type": "code",
   "execution_count": null,
   "metadata": {},
   "outputs": [],
   "source": []
  },
  {
   "cell_type": "markdown",
   "metadata": {},
   "source": [
    "\n",
    "## Разделение и объединение строк\n",
    "20. Разделите строку из задачи 1 на слова и создайте список.\n",
    "\n",
    "21. Объедините элементы списка из задачи 20 в строку с использованием пробелов.\n"
   ]
  },
  {
   "cell_type": "code",
   "execution_count": null,
   "metadata": {},
   "outputs": [],
   "source": []
  },
  {
   "cell_type": "markdown",
   "metadata": {},
   "source": [
    "\n",
    "## Поиск и замена\n",
    "22. Найдите индекс первого вхождения буквы \"e\" в строке из задачи 1.\n",
    "\n",
    "23. Замените все пробелы в строке из задачи 2 на нижнее подчеркивание.\n"
   ]
  },
  {
   "cell_type": "code",
   "execution_count": null,
   "metadata": {},
   "outputs": [],
   "source": []
  },
  {
   "cell_type": "markdown",
   "metadata": {},
   "source": [
    "\n",
    "## Форматирование чисел\n",
    "24. Создайте строку, вставив значение числа с плавающей точкой в формате с двумя знаками после запятой.\n",
    "\n",
    "25. Создайте строку, выравнив число из задачи 24 по центру в строке шириной 10 символов."
   ]
  },
  {
   "cell_type": "code",
   "execution_count": null,
   "metadata": {},
   "outputs": [],
   "source": []
  }
 ],
 "metadata": {
  "language_info": {
   "name": "python"
  }
 },
 "nbformat": 4,
 "nbformat_minor": 2
}
