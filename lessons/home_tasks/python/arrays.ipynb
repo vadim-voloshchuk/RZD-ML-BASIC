{
 "cells": [
  {
   "cell_type": "code",
   "execution_count": 1,
   "metadata": {},
   "outputs": [],
   "source": [
    "import statistics\n",
    "import numpy"
   ]
  },
  {
   "cell_type": "markdown",
   "metadata": {},
   "source": [
    "# Работа с массивами в Python\n",
    "\n",
    "## Создание массивов\n",
    "1. Создайте список из 10 случайных чисел.\n",
    "\n",
    "2. Создайте двумерный список (матрицу) размером 3x3, содержащий случайные числа.\n",
    "\n",
    "3. Создайте список с числами от 1 до 20 включительно с шагом 2.\n"
   ]
  },
  {
   "cell_type": "code",
   "execution_count": null,
   "metadata": {},
   "outputs": [],
   "source": []
  },
  {
   "cell_type": "code",
   "execution_count": null,
   "metadata": {},
   "outputs": [],
   "source": []
  },
  {
   "cell_type": "code",
   "execution_count": null,
   "metadata": {},
   "outputs": [],
   "source": []
  },
  {
   "cell_type": "markdown",
   "metadata": {},
   "source": [
    "\n",
    "## Информация о массиве\n",
    "4. Выведите длину списка из задачи 2, используя функцию `len()`.\n",
    "\n",
    "5. Определите тип данных элементов списка из задачи 3, используя функцию `type()`.\n"
   ]
  },
  {
   "cell_type": "code",
   "execution_count": null,
   "metadata": {},
   "outputs": [],
   "source": []
  },
  {
   "cell_type": "code",
   "execution_count": null,
   "metadata": {},
   "outputs": [],
   "source": []
  },
  {
   "cell_type": "markdown",
   "metadata": {},
   "source": [
    "\n",
    "## Операции с массивами\n",
    "6. Умножьте каждый элемент списка из задачи 1 на 3.\n",
    "\n",
    "7. Посчитайте сумму элементов списка из задачи 2 по каждой оси, используя циклы.\n"
   ]
  },
  {
   "cell_type": "code",
   "execution_count": null,
   "metadata": {},
   "outputs": [],
   "source": []
  },
  {
   "cell_type": "code",
   "execution_count": null,
   "metadata": {},
   "outputs": [],
   "source": []
  },
  {
   "cell_type": "markdown",
   "metadata": {},
   "source": [
    "\n",
    "## Индексация и срезы\n",
    "8. Получите элемент из середины списка из задачи 1.\n",
    "\n",
    "9. Выделите подсписок размером 2x2 из списка задачи 2.\n"
   ]
  },
  {
   "cell_type": "code",
   "execution_count": null,
   "metadata": {},
   "outputs": [],
   "source": []
  },
  {
   "cell_type": "markdown",
   "metadata": {},
   "source": [
    "\n",
    "## Статистика и агрегация\n",
    "10. Найдите среднее значение всех элементов списка из задачи 1, используя функцию `sum()` и `len()`.\n",
    "\n",
    "11. Найдите максимальное значение в каждой строке списка из задачи 2, используя циклы.\n"
   ]
  },
  {
   "cell_type": "code",
   "execution_count": null,
   "metadata": {},
   "outputs": [],
   "source": []
  },
  {
   "cell_type": "code",
   "execution_count": null,
   "metadata": {},
   "outputs": [],
   "source": []
  },
  {
   "cell_type": "markdown",
   "metadata": {},
   "source": [
    "\n",
    "## Логические операции\n",
    "12. Создайте логический список, проверяющий, какие элементы списка из задачи 1 больше 5.\n",
    "\n",
    "13. Получите только те элементы списка из задачи 3, которые делятся на 3 без остатка, используя циклы.\n"
   ]
  },
  {
   "cell_type": "code",
   "execution_count": null,
   "metadata": {},
   "outputs": [],
   "source": []
  },
  {
   "cell_type": "code",
   "execution_count": null,
   "metadata": {},
   "outputs": [],
   "source": []
  },
  {
   "cell_type": "markdown",
   "metadata": {},
   "source": [
    "\n",
    "## Работа с формой массива\n",
    "14. Преобразуйте одномерный список из задачи 1 в двумерный список размером 2x5, используя циклы.\n",
    "\n",
    "15. Транспонируйте список из задачи 2, создав новый список.\n"
   ]
  },
  {
   "cell_type": "code",
   "execution_count": null,
   "metadata": {},
   "outputs": [],
   "source": []
  },
  {
   "cell_type": "code",
   "execution_count": null,
   "metadata": {},
   "outputs": [],
   "source": []
  },
  {
   "cell_type": "markdown",
   "metadata": {},
   "source": [
    "\n",
    "## Сортировка и индексация\n",
    "16. Отсортируйте элементы списка из задачи 1 по убыванию, используя функцию `sorted()`.\n",
    "\n",
    "17. Найдите индексы минимальных значений в каждом столбце списка из задачи 2, используя циклы.\n"
   ]
  },
  {
   "cell_type": "code",
   "execution_count": null,
   "metadata": {},
   "outputs": [],
   "source": []
  },
  {
   "cell_type": "code",
   "execution_count": null,
   "metadata": {},
   "outputs": [],
   "source": []
  },
  {
   "cell_type": "markdown",
   "metadata": {},
   "source": [
    "\n",
    "## Уникальные значения\n",
    "18. Найдите уникальные значения в списке из задачи 1, используя циклы.\n",
    "\n",
    "19. Посчитайте количество повторяющихся элементов в списке из задачи 3, используя циклы.\n"
   ]
  },
  {
   "cell_type": "code",
   "execution_count": null,
   "metadata": {},
   "outputs": [],
   "source": []
  },
  {
   "cell_type": "markdown",
   "metadata": {},
   "source": [
    "\n",
    "## Линейная алгебра\n",
    "20. Выполните матричное умножение двух списков размером 3x3 из задачи 2, используя циклы.\n",
    "\n",
    "21. Решите систему линейных уравнений: `2x + y = 8` и `3x - y = 1`, используя метод Крамера.\n"
   ]
  },
  {
   "cell_type": "code",
   "execution_count": null,
   "metadata": {},
   "outputs": [],
   "source": []
  },
  {
   "cell_type": "markdown",
   "metadata": {},
   "source": [
    "\n",
    "## Векторизация\n",
    "22. Создайте функцию, которая принимает на вход список и возвращает новый список, содержащий квадраты элементов входного списка.\n",
    "\n",
    "23. Примените функцию из задачи 22 к списку из задачи 1 с использованием генератора списков."
   ]
  },
  {
   "cell_type": "code",
   "execution_count": null,
   "metadata": {},
   "outputs": [],
   "source": []
  },
  {
   "cell_type": "markdown",
   "metadata": {},
   "source": [
    "\n",
    "## Статистика\n",
    "24. Посчитайте медиану элементов списка из задачи 1, используя библиотеку statistics.\n",
    "\n",
    "25. Найдите стандартное отклонение значений в каждой строке списка из задачи 2, используя библиотеку numpy."
   ]
  },
  {
   "cell_type": "code",
   "execution_count": null,
   "metadata": {},
   "outputs": [],
   "source": []
  }
 ],
 "metadata": {
  "kernelspec": {
   "display_name": "Python 3",
   "language": "python",
   "name": "python3"
  },
  "language_info": {
   "codemirror_mode": {
    "name": "ipython",
    "version": 3
   },
   "file_extension": ".py",
   "mimetype": "text/x-python",
   "name": "python",
   "nbconvert_exporter": "python",
   "pygments_lexer": "ipython3",
   "version": "3.10.6"
  }
 },
 "nbformat": 4,
 "nbformat_minor": 2
}
