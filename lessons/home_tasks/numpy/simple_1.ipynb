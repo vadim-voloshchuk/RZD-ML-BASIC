{
 "cells": [
  {
   "cell_type": "code",
   "execution_count": 2,
   "metadata": {},
   "outputs": [],
   "source": [
    "import numpy as np"
   ]
  },
  {
   "cell_type": "markdown",
   "metadata": {},
   "source": [
    "# Анализ данных с использованием библиотеки NumPy\n",
    "\n",
    "## Создание массивов\n",
    "1. Создайте одномерный массив из 10 случайных чисел.\n",
    "\n",
    "2. Создайте двумерный массив размером 3x3, содержащий случайные числа.\n",
    "\n",
    "3. Создайте массив с числами от 1 до 20 включительно с шагом 2.\n"
   ]
  },
  {
   "cell_type": "code",
   "execution_count": null,
   "metadata": {},
   "outputs": [],
   "source": []
  },
  {
   "cell_type": "code",
   "execution_count": null,
   "metadata": {},
   "outputs": [],
   "source": []
  },
  {
   "cell_type": "code",
   "execution_count": null,
   "metadata": {},
   "outputs": [],
   "source": []
  },
  {
   "cell_type": "markdown",
   "metadata": {},
   "source": [
    "\n",
    "## Информация о массиве\n",
    "4. Выведите форму (размер) массива из задачи 2, используя атрибут `shape`.\n",
    "\n",
    "5. Определите тип данных элементов массива из задачи 3, используя атрибут `dtype`.\n"
   ]
  },
  {
   "cell_type": "code",
   "execution_count": null,
   "metadata": {},
   "outputs": [],
   "source": []
  },
  {
   "cell_type": "code",
   "execution_count": null,
   "metadata": {},
   "outputs": [],
   "source": []
  },
  {
   "cell_type": "markdown",
   "metadata": {},
   "source": [
    "\n",
    "## Операции с массивами\n",
    "6. Умножьте каждый элемент массива из задачи 1 на 3.\n",
    "\n",
    "7. Посчитайте сумму элементов массива из задачи 2 по каждой оси, используя функцию `np.sum()`.\n"
   ]
  },
  {
   "cell_type": "code",
   "execution_count": null,
   "metadata": {},
   "outputs": [],
   "source": []
  },
  {
   "cell_type": "code",
   "execution_count": null,
   "metadata": {},
   "outputs": [],
   "source": []
  },
  {
   "cell_type": "markdown",
   "metadata": {},
   "source": [
    "\n",
    "## Индексация и срезы\n",
    "8. Получите элемент из середины массива из задачи 1.\n",
    "\n",
    "9. Выделите подматрицу размером 2x2 из массива задачи 2.\n"
   ]
  },
  {
   "cell_type": "code",
   "execution_count": null,
   "metadata": {},
   "outputs": [],
   "source": []
  },
  {
   "cell_type": "code",
   "execution_count": null,
   "metadata": {},
   "outputs": [],
   "source": []
  },
  {
   "cell_type": "markdown",
   "metadata": {},
   "source": [
    "\n",
    "## Статистика и агрегация\n",
    "10. Найдите среднее значение всех элементов массива из задачи 1, используя функцию `np.mean()`.\n",
    "\n",
    "11. Найдите максимальное значение в каждой строке массива из задачи 2, используя функцию `np.max()`.\n"
   ]
  },
  {
   "cell_type": "code",
   "execution_count": null,
   "metadata": {},
   "outputs": [],
   "source": []
  },
  {
   "cell_type": "code",
   "execution_count": null,
   "metadata": {},
   "outputs": [],
   "source": []
  },
  {
   "cell_type": "markdown",
   "metadata": {},
   "source": [
    "\n",
    "## Логические операции\n",
    "12. Создайте логический массив, проверяющий, какие элементы массива из задачи 1 больше 5.\n",
    "\n",
    "13. Получите только те элементы массива из задачи 3, которые делятся на 3 без остатка.\n"
   ]
  },
  {
   "cell_type": "code",
   "execution_count": null,
   "metadata": {},
   "outputs": [],
   "source": []
  },
  {
   "cell_type": "code",
   "execution_count": null,
   "metadata": {},
   "outputs": [],
   "source": []
  },
  {
   "cell_type": "markdown",
   "metadata": {},
   "source": [
    "\n",
    "## Работа с формой массива\n",
    "14. Преобразуйте одномерный массив из задачи 1 в двумерный массив размером 2x5, используя метод `reshape()`.\n",
    "\n",
    "15. Транспонируйте массив из задачи 2, используя метод `T`.\n"
   ]
  },
  {
   "cell_type": "code",
   "execution_count": null,
   "metadata": {},
   "outputs": [],
   "source": []
  },
  {
   "cell_type": "code",
   "execution_count": null,
   "metadata": {},
   "outputs": [],
   "source": []
  },
  {
   "cell_type": "markdown",
   "metadata": {},
   "source": [
    "\n",
    "## Сортировка и индексация\n",
    "16. Отсортируйте элементы массива из задачи 1 по убыванию, используя функцию `np.sort()`.\n",
    "\n",
    "17. Найдите индексы минимальных значений в каждом столбце массива из задачи 2, используя функцию `np.argmin()`.\n"
   ]
  },
  {
   "cell_type": "code",
   "execution_count": null,
   "metadata": {},
   "outputs": [],
   "source": []
  },
  {
   "cell_type": "code",
   "execution_count": null,
   "metadata": {},
   "outputs": [],
   "source": []
  },
  {
   "cell_type": "markdown",
   "metadata": {},
   "source": [
    "\n",
    "## Уникальные значения\n",
    "18. Найдите уникальные значения в массиве из задачи 1, используя функцию `np.unique()`.\n",
    "\n",
    "19. Посчитайте количество повторяющихся элементов в массиве из задачи 3, используя функцию `np.bincount()`.\n"
   ]
  },
  {
   "cell_type": "code",
   "execution_count": null,
   "metadata": {},
   "outputs": [],
   "source": []
  },
  {
   "cell_type": "code",
   "execution_count": null,
   "metadata": {},
   "outputs": [],
   "source": []
  },
  {
   "cell_type": "markdown",
   "metadata": {},
   "source": [
    "\n",
    "## Линейная алгебра\n",
    "20. Выполните матричное умножение двух массивов размером 3x3 из задачи 2, используя функцию `np.dot()`.\n",
    "\n",
    "21. Решите систему линейных уравнений: `2x + y = 8` и `3x - y = 1`, используя функцию `np.linalg.solve()`.\n"
   ]
  },
  {
   "cell_type": "code",
   "execution_count": null,
   "metadata": {},
   "outputs": [],
   "source": []
  },
  {
   "cell_type": "code",
   "execution_count": null,
   "metadata": {},
   "outputs": [],
   "source": []
  },
  {
   "cell_type": "markdown",
   "metadata": {},
   "source": [
    "\n",
    "## Векторизация\n",
    "22. Создайте функцию, которая принимает на вход массив и возвращает новый массив, содержащий квадраты элементов входного массива.\n",
    "\n",
    "23. Примените функцию из задачи 22 к массиву из задачи 1 с использованием векторизации.\n"
   ]
  },
  {
   "cell_type": "code",
   "execution_count": null,
   "metadata": {},
   "outputs": [],
   "source": []
  },
  {
   "cell_type": "code",
   "execution_count": null,
   "metadata": {},
   "outputs": [],
   "source": []
  },
  {
   "cell_type": "markdown",
   "metadata": {},
   "source": [
    "\n",
    "## Статистика\n",
    "24. Посчитайте медиану элементов массива из задачи 1, используя функцию `np.median()`.\n",
    "\n",
    "25. Найдите стандартное отклонение значений в каждой строке массива из задачи 2, используя функцию `np.std()`."
   ]
  },
  {
   "cell_type": "code",
   "execution_count": null,
   "metadata": {},
   "outputs": [],
   "source": []
  },
  {
   "cell_type": "code",
   "execution_count": null,
   "metadata": {},
   "outputs": [],
   "source": []
  }
 ],
 "metadata": {
  "kernelspec": {
   "display_name": "Python 3",
   "language": "python",
   "name": "python3"
  },
  "language_info": {
   "codemirror_mode": {
    "name": "ipython",
    "version": 3
   },
   "file_extension": ".py",
   "mimetype": "text/x-python",
   "name": "python",
   "nbconvert_exporter": "python",
   "pygments_lexer": "ipython3",
   "version": "3.10.6"
  }
 },
 "nbformat": 4,
 "nbformat_minor": 2
}
