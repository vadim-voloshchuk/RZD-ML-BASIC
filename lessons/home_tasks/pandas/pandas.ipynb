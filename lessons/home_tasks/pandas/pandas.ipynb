{
 "cells": [
  {
   "cell_type": "code",
   "execution_count": null,
   "metadata": {},
   "outputs": [],
   "source": [
    "import pandas as pd\n",
    "import matplotlib.pyplot as plt"
   ]
  },
  {
   "cell_type": "markdown",
   "metadata": {},
   "source": [
    "# Анализ данных по уровню счастья в мире\n",
    "\n",
    "## Загрузка данных\n",
    "1. Загрузите данные из предоставленного CSV-файла в DataFrame, используя метод `pd.read_csv()` из библиотеки pandas."
   ]
  },
  {
   "cell_type": "code",
   "execution_count": null,
   "metadata": {},
   "outputs": [],
   "source": []
  },
  {
   "cell_type": "markdown",
   "metadata": {},
   "source": [
    "## Просмотр данных\n",
    "2. Выведите первые 7 строк DataFrame с помощью метода `head()`."
   ]
  },
  {
   "cell_type": "code",
   "execution_count": null,
   "metadata": {},
   "outputs": [],
   "source": []
  },
  {
   "cell_type": "markdown",
   "metadata": {},
   "source": [
    "\n",
    "## Общая информация о данных\n",
    "3. Посчитайте общее количество записей в DataFrame, используя функцию `len()`.\n"
   ]
  },
  {
   "cell_type": "code",
   "execution_count": null,
   "metadata": {},
   "outputs": [],
   "source": []
  },
  {
   "cell_type": "markdown",
   "metadata": {},
   "source": [
    "\n",
    "4. Выведите информацию о типах данных и наличии пропущенных значений в DataFrame, используя метод `info()`.\n",
    "\n"
   ]
  },
  {
   "cell_type": "code",
   "execution_count": null,
   "metadata": {},
   "outputs": [],
   "source": []
  },
  {
   "cell_type": "markdown",
   "metadata": {},
   "source": [
    "## Уровень счастья\n",
    "5. Выведите среднее значение уровня счастья (Score) по всем странам, применив метод `mean()`.\n",
    "\n",
    "6. Отсортируйте DataFrame по уровню счастья в порядке убывания, используя метод `sort_values()`.\n",
    "\n",
    "7. Выберите только страны с уровнем счастья выше 7, используя условный фильтр.\n",
    "\n",
    "8. Посчитайте общее количество стран, уровень счастья которых выше среднего, используя методы фильтрации и `len()`.\n"
   ]
  },
  {
   "cell_type": "code",
   "execution_count": null,
   "metadata": {},
   "outputs": [],
   "source": []
  },
  {
   "cell_type": "code",
   "execution_count": null,
   "metadata": {},
   "outputs": [],
   "source": []
  },
  {
   "cell_type": "code",
   "execution_count": null,
   "metadata": {},
   "outputs": [],
   "source": []
  },
  {
   "cell_type": "code",
   "execution_count": null,
   "metadata": {},
   "outputs": [],
   "source": []
  },
  {
   "cell_type": "markdown",
   "metadata": {},
   "source": [
    "\n",
    "## ВВП на душу населения\n",
    "9. Выведите топ-5 стран с наибольшим ВВП на душу населения, используя метод `nlargest()`.\n",
    "\n",
    "10. Найдите страну с наименьшей ожидаемой продолжительностью здоровой жизни, используя метод `loc[]`.\n"
   ]
  },
  {
   "cell_type": "code",
   "execution_count": null,
   "metadata": {},
   "outputs": [],
   "source": []
  },
  {
   "cell_type": "code",
   "execution_count": null,
   "metadata": {},
   "outputs": [],
   "source": []
  },
  {
   "cell_type": "markdown",
   "metadata": {},
   "source": [
    "\n",
    "## Социальная поддержка и свобода жизненного выбора\n",
    "11. Посчитайте средние значения социальной поддержки и свободы жизненного выбора по всем странам, используя метод `mean()`.\n",
    "\n"
   ]
  },
  {
   "cell_type": "code",
   "execution_count": null,
   "metadata": {},
   "outputs": [],
   "source": []
  },
  {
   "cell_type": "markdown",
   "metadata": {},
   "source": [
    "## Новый столбец \"Благотворительность\"\n",
    "12. Создайте новый столбец \"Благотворительность\", который будет являться отношением показателя благотворительности к ВВП на душу населения."
   ]
  },
  {
   "cell_type": "code",
   "execution_count": null,
   "metadata": {},
   "outputs": [],
   "source": []
  },
  {
   "cell_type": "markdown",
   "metadata": {},
   "source": [
    "\n",
    "## Удаление столбца \"Perceptions of corruption\"\n",
    "13. Удалите столбец \"Perceptions of corruption\" из DataFrame с помощью метода `drop()`.\n"
   ]
  },
  {
   "cell_type": "code",
   "execution_count": null,
   "metadata": {},
   "outputs": [],
   "source": []
  },
  {
   "cell_type": "markdown",
   "metadata": {},
   "source": [
    "\n",
    "## Выбор стран\n",
    "14. Выберите страны, где уровень счастья меньше 5 и ожидаемая продолжительность здоровой жизни больше 1, используя логический фильтр.\n"
   ]
  },
  {
   "cell_type": "code",
   "execution_count": null,
   "metadata": {},
   "outputs": [],
   "source": []
  },
  {
   "cell_type": "markdown",
   "metadata": {},
   "source": [
    "\n",
    "## Корреляция\n",
    "15. Посчитайте корреляцию между уровнем счастья и ВВП на душу населения, используя метод `corr()`."
   ]
  },
  {
   "cell_type": "code",
   "execution_count": null,
   "metadata": {},
   "outputs": [],
   "source": []
  },
  {
   "cell_type": "markdown",
   "metadata": {},
   "source": [
    "\n",
    "## Группировка данных\n",
    "16. Сгруппируйте данные по регионам и найдите средний уровень счастья в каждом регионе, используя метод `groupby()`.\n"
   ]
  },
  {
   "cell_type": "code",
   "execution_count": null,
   "metadata": {},
   "outputs": [],
   "source": []
  },
  {
   "cell_type": "markdown",
   "metadata": {},
   "source": [
    "\n",
    "## Описательные статистики\n",
    "17. Выведите описательные статистики для всех числовых колонок DataFrame, используя метод `describe()`.\n"
   ]
  },
  {
   "cell_type": "code",
   "execution_count": null,
   "metadata": {},
   "outputs": [],
   "source": []
  },
  {
   "cell_type": "markdown",
   "metadata": {},
   "source": [
    "\n",
    "## Замена пропущенных значений\n",
    "18. Замените пропущенные значения в столбце \"Generosity\" на среднее значение этого столбца, используя метод `fillna()`.\n"
   ]
  },
  {
   "cell_type": "code",
   "execution_count": null,
   "metadata": {},
   "outputs": [],
   "source": []
  },
  {
   "cell_type": "markdown",
   "metadata": {},
   "source": [
    "\n",
    "## Новый DataFrame\n",
    "19. Создайте новый DataFrame, содержащий только страны с наибольшей и наименьшей социальной поддержкой, используя методы `idxmax()` и `idxmin()`.\n"
   ]
  },
  {
   "cell_type": "code",
   "execution_count": null,
   "metadata": {},
   "outputs": [],
   "source": []
  },
  {
   "cell_type": "markdown",
   "metadata": {},
   "source": [
    "\n",
    "## Изменение названия столбца\n",
    "20. Измените название столбца \"Score\" на \"Happiness Score\", используя метод `rename()`.\n"
   ]
  },
  {
   "cell_type": "code",
   "execution_count": null,
   "metadata": {},
   "outputs": [],
   "source": []
  },
  {
   "cell_type": "markdown",
   "metadata": {},
   "source": [
    "\n",
    "## Поиск стран\n",
    "21. Найдите страны с высоким уровнем счастья и низкой щедростью, используя условный фильтр.\n"
   ]
  },
  {
   "cell_type": "code",
   "execution_count": null,
   "metadata": {},
   "outputs": [],
   "source": []
  },
  {
   "cell_type": "markdown",
   "metadata": {},
   "source": [
    "\n",
    "## Построение графика\n",
    "22. Постройте график распределения уровня счастья, используя библиотеку Matplotlib.\n"
   ]
  },
  {
   "cell_type": "code",
   "execution_count": null,
   "metadata": {},
   "outputs": [],
   "source": []
  },
  {
   "cell_type": "markdown",
   "metadata": {},
   "source": [
    "\n",
    "## Переиндексация\n",
    "23. Переиндексируйте DataFrame, начиная индексы с 1, используя метод `reset_index()`.\n"
   ]
  },
  {
   "cell_type": "code",
   "execution_count": null,
   "metadata": {},
   "outputs": [],
   "source": []
  },
  {
   "cell_type": "markdown",
   "metadata": {},
   "source": [
    "\n",
    "## Сохранение данных\n",
    "24. Сохраните отфильтрованные данные (например, страны с уровнем счастья выше 7) в новый CSV-файл, используя метод `to_csv()`."
   ]
  },
  {
   "cell_type": "code",
   "execution_count": null,
   "metadata": {},
   "outputs": [],
   "source": []
  },
  {
   "cell_type": "markdown",
   "metadata": {},
   "source": [
    "\n",
    "## Использование метода describe()\n",
    "25. Используйте метод `describe()` для получения сводной статистики по числовым колонкам DataFrame."
   ]
  },
  {
   "cell_type": "code",
   "execution_count": null,
   "metadata": {},
   "outputs": [],
   "source": []
  }
 ],
 "metadata": {
  "language_info": {
   "name": "python"
  }
 },
 "nbformat": 4,
 "nbformat_minor": 2
}
