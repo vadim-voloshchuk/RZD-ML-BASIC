{
 "cells": [
  {
   "cell_type": "code",
   "execution_count": 12,
   "metadata": {},
   "outputs": [
    {
     "name": "stderr",
     "output_type": "stream",
     "text": [
      "<>:1: SyntaxWarning: list indices must be integers or slices, not tuple; perhaps you missed a comma?\n",
      "<>:1: SyntaxWarning: list indices must be integers or slices, not tuple; perhaps you missed a comma?\n",
      "C:\\Users\\павел\\AppData\\Local\\Temp\\ipykernel_19444\\3000036486.py:1: SyntaxWarning: list indices must be integers or slices, not tuple; perhaps you missed a comma?\n",
      "  serial_base= [[\"Breaking Bad\",5\n",
      "C:\\Users\\павел\\AppData\\Local\\Temp\\ipykernel_19444\\3000036486.py:1: SyntaxWarning: list indices must be integers or slices, not tuple; perhaps you missed a comma?\n",
      "  serial_base= [[\"Breaking Bad\",5\n",
      "C:\\Users\\павел\\AppData\\Local\\Temp\\ipykernel_19444\\3000036486.py:1: SyntaxWarning: list indices must be integers or slices, not tuple; perhaps you missed a comma?\n",
      "  serial_base= [[\"Breaking Bad\",5\n",
      "C:\\Users\\павел\\AppData\\Local\\Temp\\ipykernel_19444\\3000036486.py:1: SyntaxWarning: list indices must be integers or slices, not tuple; perhaps you missed a comma?\n",
      "  serial_base= [[\"Breaking Bad\",5\n",
      "C:\\Users\\павел\\AppData\\Local\\Temp\\ipykernel_19444\\3000036486.py:1: SyntaxWarning: list indices must be integers or slices, not tuple; perhaps you missed a comma?\n",
      "  serial_base= [[\"Breaking Bad\",5\n",
      "C:\\Users\\павел\\AppData\\Local\\Temp\\ipykernel_19444\\3000036486.py:1: SyntaxWarning: list indices must be integers or slices, not tuple; perhaps you missed a comma?\n",
      "  serial_base= [[\"Breaking Bad\",5\n",
      "C:\\Users\\павел\\AppData\\Local\\Temp\\ipykernel_19444\\3000036486.py:1: SyntaxWarning: list indices must be integers or slices, not tuple; perhaps you missed a comma?\n",
      "  serial_base= [[\"Breaking Bad\",5\n",
      "C:\\Users\\павел\\AppData\\Local\\Temp\\ipykernel_19444\\3000036486.py:1: SyntaxWarning: list indices must be integers or slices, not tuple; perhaps you missed a comma?\n",
      "  serial_base= [[\"Breaking Bad\",5\n",
      "C:\\Users\\павел\\AppData\\Local\\Temp\\ipykernel_19444\\3000036486.py:1: SyntaxWarning: list indices must be integers or slices, not tuple; perhaps you missed a comma?\n",
      "  serial_base= [[\"Breaking Bad\",5\n",
      "C:\\Users\\павел\\AppData\\Local\\Temp\\ipykernel_19444\\3000036486.py:1: SyntaxWarning: list indices must be integers or slices, not tuple; perhaps you missed a comma?\n",
      "  serial_base= [[\"Breaking Bad\",5\n"
     ]
    },
    {
     "ename": "TypeError",
     "evalue": "list indices must be integers or slices, not tuple",
     "output_type": "error",
     "traceback": [
      "\u001b[1;31m---------------------------------------------------------------------------\u001b[0m",
      "\u001b[1;31mTypeError\u001b[0m                                 Traceback (most recent call last)",
      "\u001b[1;32mc:\\Users\\павел\\Desktop\\rzd\\RZD-ML-BASIC\\lessons\\first\\pauel2200.ipynb Ячейка 1\u001b[0m line \u001b[0;36m1\n\u001b[1;32m----> <a href='vscode-notebook-cell:/c%3A/Users/%D0%BF%D0%B0%D0%B2%D0%B5%D0%BB/Desktop/rzd/RZD-ML-BASIC/lessons/first/pauel2200.ipynb#X11sZmlsZQ%3D%3D?line=0'>1</a>\u001b[0m serial_base\u001b[39m=\u001b[39m [[\u001b[39m\"\u001b[39;49m\u001b[39mBreaking Bad\u001b[39;49m\u001b[39m\"\u001b[39;49m,\u001b[39m5\u001b[39;49m\n\u001b[0;32m      <a href='vscode-notebook-cell:/c%3A/Users/%D0%BF%D0%B0%D0%B2%D0%B5%D0%BB/Desktop/rzd/RZD-ML-BASIC/lessons/first/pauel2200.ipynb#X11sZmlsZQ%3D%3D?line=1'>2</a>\u001b[0m ][\u001b[39m\"\u001b[39;49m\u001b[39mStranger Things\u001b[39;49m\u001b[39m\"\u001b[39;49m,\u001b[39m4\u001b[39;49m][\u001b[39m\"\u001b[39m\u001b[39mThe Crown \u001b[39m\u001b[39m\"\u001b[39m,\u001b[39m3\u001b[39m][\u001b[39m\"\u001b[39m\u001b[39mThe Queen\u001b[39m\u001b[39m'\u001b[39m\u001b[39ms Gambit\u001b[39m\u001b[39m\"\u001b[39m,\u001b[39m5\u001b[39m][\u001b[39m\"\u001b[39m\u001b[39mBlack Mirror,4\u001b[39m\u001b[39m\"\u001b[39m][\u001b[39m\"\u001b[39m\u001b[39mDark\u001b[39m\u001b[39m\"\u001b[39m,\u001b[39m5\u001b[39m][\u001b[39m\"\u001b[39m\u001b[39mNarcos \u001b[39m\u001b[39m\"\u001b[39m,\u001b[39m4\u001b[39m][\u001b[39m\"\u001b[39m\u001b[39mMindhunter \u001b[39m\u001b[39m\"\u001b[39m,\u001b[39m5\u001b[39m][\u001b[39m\"\u001b[39m\u001b[39mThe Witcher \u001b[39m\u001b[39m\"\u001b[39m,\u001b[39m2\u001b[39m]]\n\u001b[0;32m      <a href='vscode-notebook-cell:/c%3A/Users/%D0%BF%D0%B0%D0%B2%D0%B5%D0%BB/Desktop/rzd/RZD-ML-BASIC/lessons/first/pauel2200.ipynb#X11sZmlsZQ%3D%3D?line=2'>3</a>\u001b[0m user_watch\u001b[39m=\u001b[39m[\u001b[39minput\u001b[39m]\n\u001b[0;32m      <a href='vscode-notebook-cell:/c%3A/Users/%D0%BF%D0%B0%D0%B2%D0%B5%D0%BB/Desktop/rzd/RZD-ML-BASIC/lessons/first/pauel2200.ipynb#X11sZmlsZQ%3D%3D?line=6'>7</a>\u001b[0m \u001b[39mwhile\u001b[39;00m \u001b[39mTrue\u001b[39;00m:\n",
      "\u001b[1;31mTypeError\u001b[0m: list indices must be integers or slices, not tuple"
     ]
    }
   ],
   "source": [
    "serial_base= [[\"Breaking Bad\",5\n",
    "][\"Stranger Things\",4][\"The Crown \",3][\"The Queen's Gambit\",5][\"Black Mirror,4\"][\"Dark\",5][\"Narcos \",4][\"Mindhunter \",5][\"The Witcher \",2]]\n",
    "user_watch=[input]\n",
    "\n",
    "\n",
    "\n",
    "while True:\n",
    "    serial=(\"просмотрено:\")\n",
    "    if serial == 'stop':\n",
    "        break\n",
    "    user_watch.append([serial])\n",
    "    \n",
    "\n",
    "\n",
    "for s in user_watch:\n",
    "    if s[0] >=  and s[1] >= 2:\n",
    "        print(\"Breaking Bad\",\"The Queen's Gambit\",\"Dark\",\"Mindhunter \")\n",
    "    elif s[0] >= 60000 and s[1] >= 1:\n",
    "        print(\"Средний рейтинг\")\n",
    "    elif s[0] < 60000 and s[1] < 1:\n",
    "        print(\"Низкий рейтинг\")\n",
    "    else:\n",
    "        print('Невозможно присвоить рейтинг')\n",
    "\n",
    "    "
   ]
  },
  {
   "cell_type": "markdown",
   "metadata": {},
   "source": []
  },
  {
   "cell_type": "code",
   "execution_count": null,
   "metadata": {},
   "outputs": [],
   "source": []
  }
 ],
 "metadata": {
  "kernelspec": {
   "display_name": "Python 3",
   "language": "python",
   "name": "python3"
  },
  "language_info": {
   "codemirror_mode": {
    "name": "ipython",
    "version": 3
   },
   "file_extension": ".py",
   "mimetype": "text/x-python",
   "name": "python",
   "nbconvert_exporter": "python",
   "pygments_lexer": "ipython3",
   "version": "3.10.6"
  },
  "orig_nbformat": 4
 },
 "nbformat": 4,
 "nbformat_minor": 2
}
